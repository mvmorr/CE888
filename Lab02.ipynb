{
  "nbformat": 4,
  "nbformat_minor": 0,
  "metadata": {
    "colab": {
      "name": "Lab02.ipynb",
      "provenance": [],
      "collapsed_sections": [],
      "authorship_tag": "ABX9TyNk09GvtsPoqXwv4XdnER+t",
      "include_colab_link": true
    },
    "kernelspec": {
      "name": "python3",
      "display_name": "Python 3"
    },
    "accelerator": "GPU"
  },
  "cells": [
    {
      "cell_type": "markdown",
      "metadata": {
        "id": "view-in-github",
        "colab_type": "text"
      },
      "source": [
        "<a href=\"https://colab.research.google.com/github/mvmorr/CE888/blob/master/Lab02.ipynb\" target=\"_parent\"><img src=\"https://colab.research.google.com/assets/colab-badge.svg\" alt=\"Open In Colab\"/></a>"
      ]
    },
    {
      "cell_type": "code",
      "metadata": {
        "id": "F7Ss2ManwV7u",
        "colab_type": "code",
        "colab": {}
      },
      "source": [
        "import matplotlib\n",
        "import pandas as pd\n",
        "import seaborn as sns\n",
        "import numpy as np"
      ],
      "execution_count": 0,
      "outputs": []
    },
    {
      "cell_type": "code",
      "metadata": {
        "id": "pzf4V56Zwje6",
        "colab_type": "code",
        "colab": {
          "base_uri": "https://localhost:8080/",
          "height": 34
        },
        "outputId": "145eb3ad-ea68-461d-9b57-5302b5838b60"
      },
      "source": [
        "# Load the data\n",
        "df = pd.read_csv('https://raw.githubusercontent.com/albanda/CE888/master/lab2%20-%20bootstrap/customers.csv')\n",
        "data = df.values.T[1]\n",
        "sampel = np.random.choice(data, (100,14))\n",
        "np.percentile(sampel,95)\n"
      ],
      "execution_count": 2,
      "outputs": [
        {
          "output_type": "execute_result",
          "data": {
            "text/plain": [
              "22.0"
            ]
          },
          "metadata": {
            "tags": []
          },
          "execution_count": 2
        }
      ]
    },
    {
      "cell_type": "code",
      "metadata": {
        "id": "xBadxNLbwr6f",
        "colab_type": "code",
        "colab": {}
      },
      "source": [
        "# Checking the notes from the lecture, create here your own bootstrap function:\n",
        "# 1. Create an array of samples of shape (n_iterations, sample_size)\n",
        "# 2. Calculate and save the mean of the array (this is \"data_mean\" that is returned by the function)\n",
        "# 3. In each iteration:\n",
        "# 3.1 Get the data corresponding to that iteration (new_samples[iteration, :])\n",
        "# 3.2 Calculate the mean of the iteration data and store it\n",
        "# (At this point you should have an array of n_iterations values)\n",
        "# 4. Calculate the lower and upper bounds for a 95% CI (hint: check the percentile function on Numpy)\n",
        "# 5. Return data_mean, and the lower and upper bounds of your interval\n",
        "\n",
        "def boostrap_mean(sample, sample_size, n_iterations):\n",
        "\t# <---INSERT YOUR CODE HERE--->\n",
        "  samples = np.random.choice(sample, (n_iterations,sample_size))\n",
        "  data_mean = np.mean(samples)\n",
        "  new_sample = []\n",
        "  for i in samples:\n",
        "    new_sample.append(np.mean(i))\n",
        "  lower = np.percentile(new_sample, 5)\n",
        "  upper = np.percentile(new_sample,95)\n",
        "\n",
        "  return data_mean, lower, upper"
      ],
      "execution_count": 0,
      "outputs": []
    },
    {
      "cell_type": "code",
      "metadata": {
        "id": "TqEouV6HwviZ",
        "colab_type": "code",
        "colab": {
          "base_uri": "https://localhost:8080/",
          "height": 387
        },
        "outputId": "76427412-9c8b-4a44-e6dc-eb69d8c8a2cd"
      },
      "source": [
        "# Call your bootstrap function and plot the results\n",
        "\n",
        "boots = []\n",
        "for i in range(100, 100000, 1000):\n",
        "    boot = boostrap_mean(data, data.shape[0], i)\n",
        "    boots.append([i, boot[0], \"mean\"])\n",
        "    boots.append([i, boot[1], \"lower\"])\n",
        "    boots.append([i, boot[2], \"upper\"])\n",
        "\n",
        "df_boot = pd.DataFrame(boots, columns=['Boostrap Iterations', 'Mean', \"Value\"])\n",
        "sns_plot = sns.lmplot(df_boot.columns[0], df_boot.columns[1], data=df_boot, fit_reg=False, hue=\"Value\")\n",
        "\n",
        "sns_plot.axes[0, 0].set_ylim(0,)\n",
        "sns_plot.axes[0, 0].set_xlim(0, 100000)\n",
        "\n",
        "#sns_plot.savefig(\"bootstrap_confidence.png\", bbox_inches='tight')\n",
        "#sns_plot.savefig(\"bootstrap_confidence.pdf\", bbox_inches='tight')"
      ],
      "execution_count": 4,
      "outputs": [
        {
          "output_type": "execute_result",
          "data": {
            "text/plain": [
              "(0, 100000)"
            ]
          },
          "metadata": {
            "tags": []
          },
          "execution_count": 4
        },
        {
          "output_type": "display_data",
          "data": {
            "image/png": "[encoded data removed]",
            "text/plain": [
              "<Figure size 425.125x360 with 1 Axes>"
            ]
          },
          "metadata": {
            "tags": []
          }
        }
      ]
    },
    {
      "cell_type": "code",
      "metadata": {
        "id": "kCFCAvPyxxq7",
        "colab_type": "code",
        "colab": {}
      },
      "source": [
        "\n",
        "def boostrap_mean_ci(sample, sample_size, iterations, ci):\n",
        "\t# <---INSERT YOUR CODE HERE--->\n",
        "  samples = np.random.choice(sample, (iterations,sample_size))\n",
        "  data_mean = np.mean(samples)\n",
        "  new_sample = []\n",
        "  for i in samples:\n",
        "    new_sample.append(np.mean(i))\n",
        "  lower = np.percentile(new_sample, (100-ci)/2)\n",
        "  upper = np.percentile(new_sample,ci+((100-ci)/2))\n",
        "  return data_mean, lower, upper"
      ],
      "execution_count": 0,
      "outputs": []
    },
    {
      "cell_type": "code",
      "metadata": {
        "id": "C3A_D0zEyOh1",
        "colab_type": "code",
        "colab": {
          "base_uri": "https://localhost:8080/",
          "height": 368
        },
        "outputId": "171edfa6-edcb-4b2d-bdef-232f82ba830a"
      },
      "source": [
        "boots = []\n",
        "for i in range(100, 100000, 1000):\n",
        "    boot = boostrap_mean_ci(data, data.shape[0], i, 80)\n",
        "    boots.append([i, boot[0], \"mean\"])\n",
        "    boots.append([i, boot[1], \"lower\"])\n",
        "    boots.append([i, boot[2], \"upper\"])\n",
        "\n",
        "df_boot = pd.DataFrame(boots, columns=['Boostrap Iterations', 'Mean', \"Value\"])\n",
        "sns_plot = sns.lmplot(df_boot.columns[0], df_boot.columns[1], data=df_boot, fit_reg=False, hue=\"Value\")\n",
        "\n",
        "sns_plot.axes[0, 0].set_ylim(0,)\n",
        "sns_plot.axes[0, 0].set_xlim(0, 100000)\n",
        "\n",
        "sns_plot.savefig(\"bootstrap_confidence_80.png\", bbox_inches='tight')\n",
        "sns_plot.savefig(\"bootstrap_confidence_80.pdf\", bbox_inches='tight')"
      ],
      "execution_count": 6,
      "outputs": [
        {
          "output_type": "display_data",
          "data": {
            "image/png": "[encoded data removed]",
            "text/plain": [
              "<Figure size 425.125x360 with 1 Axes>"
            ]
          },
          "metadata": {
            "tags": []
          }
        }
      ]
    },
    {
      "cell_type": "code",
      "metadata": {
        "id": "vrE3zUY5yUtM",
        "colab_type": "code",
        "colab": {
          "base_uri": "https://localhost:8080/",
          "height": 386
        },
        "outputId": "656379d1-8a5e-4b59-bf99-26a8652dfbd3"
      },
      "source": [
        "# Load and visualise the vehicles dataset\n",
        "# <---INSERT YOUR CODE HERE--->\n",
        "# Note: you can add more cells as needed to organise your code and your plots\n",
        "v_df = pd.read_csv('https://raw.githubusercontent.com/albanda/CE888/master/lab2%20-%20bootstrap/vehicles.csv')\n",
        "vc_data = v_df[v_df.columns[0]].values\n",
        "vn_data = v_df[v_df.columns[1]].values\n",
        "vc_array = v_df.values.T[0]\n",
        "vn_array = v_df.values.T[1]\n",
        "sns.lmplot(v_df.columns[0], v_df.columns[1],data=v_df, fit_reg=False)\n"
      ],
      "execution_count": 7,
      "outputs": [
        {
          "output_type": "execute_result",
          "data": {
            "text/plain": [
              "<seaborn.axisgrid.FacetGrid at 0x7f86bf3c2e48>"
            ]
          },
          "metadata": {
            "tags": []
          },
          "execution_count": 7
        },
        {
          "output_type": "display_data",
          "data": {
            "image/png": "[encoded data removed]",
            "text/plain": [
              "<Figure size 360x360 with 1 Axes>"
            ]
          },
          "metadata": {
            "tags": []
          }
        }
      ]
    },
    {
      "cell_type": "code",
      "metadata": {
        "id": "dQ-PxVioRkYR",
        "colab_type": "code",
        "colab": {
          "base_uri": "https://localhost:8080/",
          "height": 369
        },
        "outputId": "79354ec6-b8b2-4b32-90dc-0e389d0611c4"
      },
      "source": [
        "sns.distplot(vc_data, bins=20, kde=False, rug=True)\n",
        "sns.distplot(vn_data, bins=20, kde=False, rug=True)\n"
      ],
      "execution_count": 8,
      "outputs": [
        {
          "output_type": "stream",
          "text": [
            "/usr/local/lib/python3.6/dist-packages/numpy/lib/histograms.py:839: RuntimeWarning: invalid value encountered in greater_equal\n",
            "  keep = (tmp_a >= first_edge)\n",
            "/usr/local/lib/python3.6/dist-packages/numpy/lib/histograms.py:840: RuntimeWarning: invalid value encountered in less_equal\n",
            "  keep &= (tmp_a <= last_edge)\n"
          ],
          "name": "stderr"
        },
        {
          "output_type": "execute_result",
          "data": {
            "text/plain": [
              "<matplotlib.axes._subplots.AxesSubplot at 0x7f86bf9d2978>"
            ]
          },
          "metadata": {
            "tags": []
          },
          "execution_count": 8
        },
        {
          "output_type": "display_data",
          "data": {
            "image/png": "[encoded data removed]",
            "text/plain": [
              "<Figure size 432x288 with 1 Axes>"
            ]
          },
          "metadata": {
            "tags": []
          }
        }
      ]
    },
    {
      "cell_type": "code",
      "metadata": {
        "id": "KvwprzbpSMQ-",
        "colab_type": "code",
        "colab": {
          "base_uri": "https://localhost:8080/",
          "height": 386
        },
        "outputId": "b2b47e0a-3349-4ed8-d81c-f0e69c16a834"
      },
      "source": [
        "#Current Fleet\n",
        "boots = []\n",
        "for i in range(100, 100000, 1000):\n",
        "    boot = boostrap_mean(vc_array, vc_array.shape[0], i)\n",
        "    boots.append([i, boot[0], \"mean\"])\n",
        "    boots.append([i, boot[1], \"lower\"])\n",
        "    boots.append([i, boot[2], \"upper\"])\n",
        "\n",
        "df_boot = pd.DataFrame(boots, columns=['Boostrap Iterations', 'Mean', \"Value\"])\n",
        "sns_plot = sns.lmplot(df_boot.columns[0], df_boot.columns[1], data=df_boot, fit_reg=False, hue=\"Value\")\n",
        "\n",
        "sns_plot.axes[0, 0].set_ylim(0,)\n",
        "sns_plot.axes[0, 0].set_xlim(0, 100000)"
      ],
      "execution_count": 9,
      "outputs": [
        {
          "output_type": "execute_result",
          "data": {
            "text/plain": [
              "(0, 100000)"
            ]
          },
          "metadata": {
            "tags": []
          },
          "execution_count": 9
        },
        {
          "output_type": "display_data",
          "data": {
            "image/png": "[encoded data removed]",
            "text/plain": [
              "<Figure size 425.125x360 with 1 Axes>"
            ]
          },
          "metadata": {
            "tags": []
          }
        }
      ]
    },
    {
      "cell_type": "code",
      "metadata": {
        "id": "PnOsAqZjSZ8p",
        "colab_type": "code",
        "colab": {
          "base_uri": "https://localhost:8080/",
          "height": 390
        },
        "outputId": "c536deb8-0e96-48a8-f4a4-f96b49d2205e"
      },
      "source": [
        "#New Fleet\n",
        "vn_array = np.nan_to_num(vn_array)\n",
        "boots = []\n",
        "for i in range(100, 100000, 1000):\n",
        "    boot = boostrap_mean(vn_array, vn_array.shape[0], i)\n",
        "    boots.append([i, boot[0], \"mean\"])\n",
        "    boots.append([i, boot[1], \"lower\"])\n",
        "    boots.append([i, boot[2], \"upper\"])\n",
        "\n",
        "df_boot = pd.DataFrame(boots, columns=['Boostrap Iterations', 'Mean', \"Value\"])\n",
        "sns_plot = sns.lmplot(df_boot.columns[0], df_boot.columns[1], data=df_boot, fit_reg=False, hue=\"Value\")\n",
        "\n",
        "sns_plot.axes[0, 0].set_ylim(0,30)\n",
        "sns_plot.axes[0, 0].set_xlim(0, 100000)"
      ],
      "execution_count": 15,
      "outputs": [
        {
          "output_type": "execute_result",
          "data": {
            "text/plain": [
              "(0, 100000)"
            ]
          },
          "metadata": {
            "tags": []
          },
          "execution_count": 15
        },
        {
          "output_type": "display_data",
          "data": {
            "image/png": "[encoded data removed]",
            "text/plain": [
              "<Figure size 425.125x360 with 1 Axes>"
            ]
          },
          "metadata": {
            "tags": []
          }
        }
      ]
    },
    {
      "cell_type": "code",
      "metadata": {
        "id": "b6e2iqAGTJ4n",
        "colab_type": "code",
        "colab": {
          "base_uri": "https://localhost:8080/",
          "height": 34
        },
        "outputId": "4bf9b0aa-faeb-4d76-d4a9-b78e5260bb42"
      },
      "source": [
        "vc_mean = np.mean(vc_array)\n",
        "print(\"Mean Current\",vc_mean)"
      ],
      "execution_count": 17,
      "outputs": [
        {
          "output_type": "stream",
          "text": [
            "Mean Current 20.14457831325301\n"
          ],
          "name": "stdout"
        }
      ]
    },
    {
      "cell_type": "code",
      "metadata": {
        "id": "1x63Gj16vzS-",
        "colab_type": "code",
        "colab": {
          "base_uri": "https://localhost:8080/",
          "height": 34
        },
        "outputId": "2b8a5605-fb3f-4aaf-db75-6eca80a5113a"
      },
      "source": [
        "vn_mean = np.mean(vn_array)\n",
        "print(\"Mean New\", vn_mean)"
      ],
      "execution_count": 18,
      "outputs": [
        {
          "output_type": "stream",
          "text": [
            "Mean New 9.670682730923694\n"
          ],
          "name": "stdout"
        }
      ]
    },
    {
      "cell_type": "code",
      "metadata": {
        "id": "MUwicInsv-df",
        "colab_type": "code",
        "colab": {
          "base_uri": "https://localhost:8080/",
          "height": 672
        },
        "outputId": "54b010e9-f486-4f8e-ec5d-18a9336a10d2"
      },
      "source": [
        "#Permutation Testing\n",
        "concat = np.concatenate((vc_array,np.nan_to_num(vn_array)))\n",
        "concat"
      ],
      "execution_count": 35,
      "outputs": [
        {
          "output_type": "execute_result",
          "data": {
            "text/plain": [
              "array([18., 15., 18., 16., 17., 15., 14., 14., 14., 15., 15., 14., 15.,\n",
              "       14., 22., 18., 21., 21., 10., 10., 11.,  9., 28., 25., 19., 16.,\n",
              "       17., 19., 18., 14., 14., 14., 14., 12., 13., 13., 18., 22., 19.,\n",
              "       18., 23., 26., 25., 20., 21., 13., 14., 15., 14., 17., 11., 13.,\n",
              "       12., 13., 15., 13., 13., 14., 22., 28., 13., 14., 13., 14., 15.,\n",
              "       12., 13., 13., 14., 13., 12., 13., 18., 16., 18., 18., 23., 11.,\n",
              "       12., 13., 12., 18., 21., 19., 21., 15., 16., 15., 11., 20., 21.,\n",
              "       19., 15., 26., 25., 16., 16., 18., 16., 13., 14., 14., 14., 28.,\n",
              "       19., 18., 15., 15., 16., 15., 16., 14., 17., 16., 15., 18., 21.,\n",
              "       20., 13., 23., 20., 23., 18., 19., 25., 26., 18., 16., 16., 15.,\n",
              "       22., 22., 24., 23., 29., 25., 20., 18., 19., 18., 27., 13., 17.,\n",
              "       13., 13., 13., 30., 26., 18., 17., 16., 15., 18., 21., 19., 19.,\n",
              "       16., 16., 16., 16., 25., 26., 31., 34., 36., 20., 19., 20., 19.,\n",
              "       21., 20., 25., 21., 19., 21., 21., 19., 18., 19., 18., 18., 18.,\n",
              "       30., 31., 23., 24., 22., 20., 22., 20., 21., 17., 18., 17., 18.,\n",
              "       17., 16., 19., 19., 36., 27., 23., 24., 34., 35., 28., 29., 27.,\n",
              "       34., 32., 28., 26., 24., 19., 28., 24., 27., 27., 26., 24., 30.,\n",
              "       39., 35., 34., 30., 22., 27., 20., 18., 28., 27., 34., 31., 29.,\n",
              "       27., 24., 23., 38., 36., 25., 38., 26., 22., 36., 27., 27., 32.,\n",
              "       28., 31., 24., 27., 27., 25., 31., 35., 24., 19., 28., 23., 27.,\n",
              "       20., 22., 18., 20., 31., 32., 31., 32., 24., 26., 29., 24., 24.,\n",
              "       33., 33., 32., 28., 19., 32., 34., 26., 30., 22., 22., 33., 39.,\n",
              "       36., 28., 27., 21., 24., 30., 34., 32., 38., 37., 30., 31., 37.,\n",
              "       32., 47., 41., 45., 34., 33., 24., 32., 39., 35., 32., 37., 38.,\n",
              "       34., 34., 32., 33., 32., 25., 24., 37., 31., 36., 36., 34., 38.,\n",
              "       32., 38., 32.,  0.,  0.,  0.,  0.,  0.,  0.,  0.,  0.,  0.,  0.,\n",
              "        0.,  0.,  0.,  0.,  0.,  0.,  0.,  0.,  0.,  0.,  0.,  0.,  0.,\n",
              "        0.,  0.,  0.,  0.,  0.,  0.,  0.,  0.,  0.,  0.,  0.,  0.,  0.,\n",
              "        0.,  0.,  0.,  0.,  0.,  0.,  0.,  0.,  0.,  0.,  0.,  0.,  0.,\n",
              "        0.,  0.,  0.,  0.,  0.,  0.,  0.,  0.,  0.,  0.,  0.,  0.,  0.,\n",
              "        0.,  0.,  0.,  0.,  0.,  0.,  0.,  0.,  0.,  0.,  0.,  0.,  0.,\n",
              "        0.,  0.,  0.,  0.,  0.,  0.,  0.,  0.,  0.,  0.,  0.,  0.,  0.,\n",
              "        0.,  0.,  0.,  0.,  0.,  0.,  0.,  0.,  0.,  0.,  0.,  0.,  0.,\n",
              "        0.,  0.,  0.,  0.,  0.,  0.,  0.,  0.,  0.,  0.,  0.,  0.,  0.,\n",
              "        0.,  0.,  0.,  0.,  0.,  0.,  0.,  0.,  0.,  0.,  0.,  0.,  0.,\n",
              "        0.,  0.,  0.,  0.,  0.,  0.,  0.,  0.,  0.,  0.,  0.,  0.,  0.,\n",
              "        0.,  0.,  0.,  0.,  0.,  0.,  0.,  0.,  0.,  0.,  0.,  0.,  0.,\n",
              "        0.,  0.,  0.,  0.,  0.,  0.,  0.,  0.,  0.,  0.,  0.,  0.,  0.,\n",
              "        0.,  0.,  0.,  0.])"
            ]
          },
          "metadata": {
            "tags": []
          },
          "execution_count": 35
        }
      ]
    },
    {
      "cell_type": "code",
      "metadata": {
        "id": "86MOdYijwfI8",
        "colab_type": "code",
        "colab": {
          "base_uri": "https://localhost:8080/",
          "height": 672
        },
        "outputId": "37517231-561c-43be-e398-0b7f1ca0f2ef"
      },
      "source": [
        "perm = np.random.permutation(concat)\n",
        "perm"
      ],
      "execution_count": 36,
      "outputs": [
        {
          "output_type": "execute_result",
          "data": {
            "text/plain": [
              "array([ 0.,  0., 11., 24., 18., 19., 10., 26., 20., 30.,  0.,  0.,  0.,\n",
              "        0., 24., 15., 21., 14., 21.,  0., 18., 18., 32., 18.,  0., 19.,\n",
              "       26.,  0., 33., 14., 15., 12., 18.,  0., 38.,  0., 16., 18., 38.,\n",
              "       33.,  0., 13.,  0., 38., 15., 31., 20., 13.,  0.,  0., 14.,  0.,\n",
              "       13.,  0., 16., 22.,  0., 22.,  0., 32., 31., 34., 39., 13., 33.,\n",
              "        0.,  0., 19., 32.,  0., 21., 18.,  0.,  0., 18., 16., 18., 23.,\n",
              "       14.,  0., 18., 18., 15., 15.,  0.,  0., 32., 21.,  0., 30.,  0.,\n",
              "        0., 29.,  0., 25., 19., 15.,  0., 18., 25.,  0., 18., 25.,  0.,\n",
              "       29., 37., 13., 18., 21., 19.,  0.,  0., 13., 12.,  0.,  0., 31.,\n",
              "        0., 25., 19., 22., 16.,  0.,  0., 27., 19., 34., 13.,  0.,  0.,\n",
              "        0., 26., 32., 27., 19., 30., 33., 27., 11., 27., 35., 20., 12.,\n",
              "       32., 18., 31., 32.,  0., 17.,  0., 16., 18., 13.,  0., 24.,  0.,\n",
              "       18., 18., 15., 18., 45.,  0., 16., 26., 23.,  0., 24., 16., 13.,\n",
              "        0., 32., 24., 24., 34., 34.,  0., 22., 16.,  0.,  0.,  0.,  0.,\n",
              "       20., 27.,  0., 21.,  0., 36., 27., 28., 18., 14., 15., 25., 18.,\n",
              "        0.,  0., 14.,  0., 14., 37., 13., 19., 14., 26., 23.,  0., 24.,\n",
              "        0., 22., 18., 15.,  0., 16., 19., 38.,  0., 23.,  0.,  0.,  0.,\n",
              "        0., 27., 36., 24., 38., 35., 17., 19., 14.,  0.,  0.,  0., 29.,\n",
              "       22., 22.,  0.,  0., 14., 20.,  0., 24.,  0.,  0.,  0., 28., 32.,\n",
              "       36., 30., 19., 37.,  0.,  0.,  0.,  0., 16.,  0., 17.,  0.,  0.,\n",
              "        0., 35., 28.,  0., 34.,  0., 22., 20., 15.,  0.,  0., 28., 36.,\n",
              "       21., 28., 19.,  0., 28., 13., 10.,  9.,  0., 34., 21., 27.,  0.,\n",
              "       41., 27., 13.,  0., 14., 21., 16., 11., 13.,  0., 34.,  0., 13.,\n",
              "       13.,  0., 15., 35., 14.,  0., 26.,  0.,  0.,  0.,  0.,  0., 14.,\n",
              "       30., 13., 31., 16., 17., 32.,  0.,  0., 17., 23., 28., 21.,  0.,\n",
              "        0., 36., 23., 32.,  0., 34., 28., 17., 20., 26.,  0., 18., 31.,\n",
              "       17.,  0.,  0., 25.,  0.,  0.,  0., 34., 23.,  0., 33., 19.,  0.,\n",
              "        0.,  0.,  0.,  0., 32., 16., 24., 37., 27., 23.,  0., 20., 25.,\n",
              "        0.,  0.,  0., 27., 15.,  0., 32.,  0., 27.,  0.,  0., 13.,  0.,\n",
              "       25., 28., 47.,  0.,  0., 17., 34., 14., 24., 18., 14., 38.,  0.,\n",
              "       20., 24., 16., 36.,  0., 15.,  0., 20.,  0.,  0., 21., 31.,  0.,\n",
              "       23.,  0., 11.,  0., 20., 22.,  0.,  0., 14., 27., 15., 24.,  0.,\n",
              "       18., 19., 21., 15., 28., 39., 15., 25., 12.,  0., 22.,  0., 31.,\n",
              "        0.,  0., 14., 21., 19.,  0.,  0., 29.,  0., 12., 18., 22.,  0.,\n",
              "       13., 16., 14., 15., 19., 17.,  0., 36.,  0.,  0.,  0., 30., 32.,\n",
              "       19., 28.,  0., 30.,  0.,  0.,  0.,  0.,  0.,  0., 21., 34., 26.,\n",
              "        0.,  0., 12., 16., 27.,  0., 26.,  0., 14., 24., 22., 16., 16.,\n",
              "       20.,  0., 25., 19.,  0.,  0., 19.,  0., 26., 13., 39., 13., 20.,\n",
              "        0., 31., 24., 18.])"
            ]
          },
          "metadata": {
            "tags": []
          },
          "execution_count": 36
        }
      ]
    },
    {
      "cell_type": "code",
      "metadata": {
        "id": "4siGUR19yBmz",
        "colab_type": "code",
        "colab": {
          "base_uri": "https://localhost:8080/",
          "height": 353
        },
        "outputId": "f182365d-944c-4a62-ccf0-80447315d61f"
      },
      "source": [
        "pold = perm[:int(len(perm)/2)]\n",
        "pold"
      ],
      "execution_count": 37,
      "outputs": [
        {
          "output_type": "execute_result",
          "data": {
            "text/plain": [
              "array([ 0.,  0., 11., 24., 18., 19., 10., 26., 20., 30.,  0.,  0.,  0.,\n",
              "        0., 24., 15., 21., 14., 21.,  0., 18., 18., 32., 18.,  0., 19.,\n",
              "       26.,  0., 33., 14., 15., 12., 18.,  0., 38.,  0., 16., 18., 38.,\n",
              "       33.,  0., 13.,  0., 38., 15., 31., 20., 13.,  0.,  0., 14.,  0.,\n",
              "       13.,  0., 16., 22.,  0., 22.,  0., 32., 31., 34., 39., 13., 33.,\n",
              "        0.,  0., 19., 32.,  0., 21., 18.,  0.,  0., 18., 16., 18., 23.,\n",
              "       14.,  0., 18., 18., 15., 15.,  0.,  0., 32., 21.,  0., 30.,  0.,\n",
              "        0., 29.,  0., 25., 19., 15.,  0., 18., 25.,  0., 18., 25.,  0.,\n",
              "       29., 37., 13., 18., 21., 19.,  0.,  0., 13., 12.,  0.,  0., 31.,\n",
              "        0., 25., 19., 22., 16.,  0.,  0., 27., 19., 34., 13.,  0.,  0.,\n",
              "        0., 26., 32., 27., 19., 30., 33., 27., 11., 27., 35., 20., 12.,\n",
              "       32., 18., 31., 32.,  0., 17.,  0., 16., 18., 13.,  0., 24.,  0.,\n",
              "       18., 18., 15., 18., 45.,  0., 16., 26., 23.,  0., 24., 16., 13.,\n",
              "        0., 32., 24., 24., 34., 34.,  0., 22., 16.,  0.,  0.,  0.,  0.,\n",
              "       20., 27.,  0., 21.,  0., 36., 27., 28., 18., 14., 15., 25., 18.,\n",
              "        0.,  0., 14.,  0., 14., 37., 13., 19., 14., 26., 23.,  0., 24.,\n",
              "        0., 22., 18., 15.,  0., 16., 19., 38.,  0., 23.,  0.,  0.,  0.,\n",
              "        0., 27., 36., 24., 38., 35., 17., 19., 14.,  0.,  0.,  0., 29.,\n",
              "       22., 22.,  0.,  0., 14., 20.,  0., 24.,  0.,  0.,  0., 28., 32.,\n",
              "       36., 30.])"
            ]
          },
          "metadata": {
            "tags": []
          },
          "execution_count": 37
        }
      ]
    },
    {
      "cell_type": "code",
      "metadata": {
        "id": "i4B15_6xyBjb",
        "colab_type": "code",
        "colab": {
          "base_uri": "https://localhost:8080/",
          "height": 353
        },
        "outputId": "fa2fdad3-e131-4c27-db0e-d2bb34e886e6"
      },
      "source": [
        "pnew = perm[int(len(perm)/2):]\n",
        "pnew"
      ],
      "execution_count": 39,
      "outputs": [
        {
          "output_type": "execute_result",
          "data": {
            "text/plain": [
              "array([19., 37.,  0.,  0.,  0.,  0., 16.,  0., 17.,  0.,  0.,  0., 35.,\n",
              "       28.,  0., 34.,  0., 22., 20., 15.,  0.,  0., 28., 36., 21., 28.,\n",
              "       19.,  0., 28., 13., 10.,  9.,  0., 34., 21., 27.,  0., 41., 27.,\n",
              "       13.,  0., 14., 21., 16., 11., 13.,  0., 34.,  0., 13., 13.,  0.,\n",
              "       15., 35., 14.,  0., 26.,  0.,  0.,  0.,  0.,  0., 14., 30., 13.,\n",
              "       31., 16., 17., 32.,  0.,  0., 17., 23., 28., 21.,  0.,  0., 36.,\n",
              "       23., 32.,  0., 34., 28., 17., 20., 26.,  0., 18., 31., 17.,  0.,\n",
              "        0., 25.,  0.,  0.,  0., 34., 23.,  0., 33., 19.,  0.,  0.,  0.,\n",
              "        0.,  0., 32., 16., 24., 37., 27., 23.,  0., 20., 25.,  0.,  0.,\n",
              "        0., 27., 15.,  0., 32.,  0., 27.,  0.,  0., 13.,  0., 25., 28.,\n",
              "       47.,  0.,  0., 17., 34., 14., 24., 18., 14., 38.,  0., 20., 24.,\n",
              "       16., 36.,  0., 15.,  0., 20.,  0.,  0., 21., 31.,  0., 23.,  0.,\n",
              "       11.,  0., 20., 22.,  0.,  0., 14., 27., 15., 24.,  0., 18., 19.,\n",
              "       21., 15., 28., 39., 15., 25., 12.,  0., 22.,  0., 31.,  0.,  0.,\n",
              "       14., 21., 19.,  0.,  0., 29.,  0., 12., 18., 22.,  0., 13., 16.,\n",
              "       14., 15., 19., 17.,  0., 36.,  0.,  0.,  0., 30., 32., 19., 28.,\n",
              "        0., 30.,  0.,  0.,  0.,  0.,  0.,  0., 21., 34., 26.,  0.,  0.,\n",
              "       12., 16., 27.,  0., 26.,  0., 14., 24., 22., 16., 16., 20.,  0.,\n",
              "       25., 19.,  0.,  0., 19.,  0., 26., 13., 39., 13., 20.,  0., 31.,\n",
              "       24., 18.])"
            ]
          },
          "metadata": {
            "tags": []
          },
          "execution_count": 39
        }
      ]
    },
    {
      "cell_type": "code",
      "metadata": {
        "id": "xIeNRsqTyhoX",
        "colab_type": "code",
        "colab": {}
      },
      "source": [
        "def permutation_testing(con):\n",
        "  ob = np.mean(vn_array)-np.mean(vc_array)\n",
        "  count = 0\n",
        "  for i in range(1,20000):\n",
        "      per = np.random.permutation(con)\n",
        "      pol = per[:int(len(per)/2)]\n",
        "      pne = per[int(len(per)/2):]\n",
        "      if (np.mean(pne)- np.mean(pol))>ob :\n",
        "        count+=1\n",
        "  print(count/20000)"
      ],
      "execution_count": 0,
      "outputs": []
    },
    {
      "cell_type": "code",
      "metadata": {
        "id": "77H7uH470Ipu",
        "colab_type": "code",
        "colab": {
          "base_uri": "https://localhost:8080/",
          "height": 34
        },
        "outputId": "c093a581-eeef-4872-9fc5-12d6c56f4d5e"
      },
      "source": [
        "permutation_testing(concat)"
      ],
      "execution_count": 54,
      "outputs": [
        {
          "output_type": "stream",
          "text": [
            "0.99995\n"
          ],
          "name": "stdout"
        }
      ]
    },
    {
      "cell_type": "code",
      "metadata": {
        "id": "K7MTfKEm0isT",
        "colab_type": "code",
        "colab": {}
      },
      "source": [
        ""
      ],
      "execution_count": 0,
      "outputs": []
    }
  ]
}